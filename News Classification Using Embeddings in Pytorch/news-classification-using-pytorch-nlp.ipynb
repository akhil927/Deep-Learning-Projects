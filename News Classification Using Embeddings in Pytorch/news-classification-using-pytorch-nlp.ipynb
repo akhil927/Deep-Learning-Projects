{
 "cells": [
  {
   "cell_type": "code",
   "execution_count": 1,
   "id": "58d1d7d8",
   "metadata": {
    "_cell_guid": "b1076dfc-b9ad-4769-8c92-a6c4dae69d19",
    "_uuid": "8f2839f25d086af736a60e9eeb907d3b93b6e0e5",
    "execution": {
     "iopub.execute_input": "2021-08-08T20:08:56.129301Z",
     "iopub.status.busy": "2021-08-08T20:08:56.128600Z",
     "iopub.status.idle": "2021-08-08T20:08:56.132785Z",
     "shell.execute_reply": "2021-08-08T20:08:56.132008Z",
     "shell.execute_reply.started": "2021-08-08T19:45:26.123109Z"
    },
    "papermill": {
     "duration": 0.030017,
     "end_time": "2021-08-08T20:08:56.132965",
     "exception": false,
     "start_time": "2021-08-08T20:08:56.102948",
     "status": "completed"
    },
    "tags": []
   },
   "outputs": [],
   "source": [
    "# This Python 3 environment comes with many helpful analytics libraries installed\n",
    "# It is defined by the kaggle/python Docker image: https://github.com/kaggle/docker-python\n",
    "# For example, here's several helpful packages to load\n",
    "\n",
    "import numpy as np # linear algebra\n",
    "import pandas as pd # data processing, CSV file I/O (e.g. pd.read_csv)\n",
    "\n",
    "# Input data files are available in the read-only \"../input/\" directory\n",
    "# For example, running this (by clicking run or pressing Shift+Enter) will list all files under the input directory\n",
    "\n",
    "import os\n",
    "for dirname, _, filenames in os.walk('/kaggle/input'):\n",
    "    for filename in filenames:\n",
    "        print(os.path.join(dirname, filename))\n",
    "\n",
    "# You can write up to 20GB to the current directory (/kaggle/working/) that gets preserved as output when you create a version using \"Save & Run All\" \n",
    "# You can also write temporary files to /kaggle/temp/, but they won't be saved outside of the current session"
   ]
  },
  {
   "cell_type": "markdown",
   "id": "2ff1ddd8",
   "metadata": {
    "papermill": {
     "duration": 0.012187,
     "end_time": "2021-08-08T20:08:56.159155",
     "exception": false,
     "start_time": "2021-08-08T20:08:56.146968",
     "status": "completed"
    },
    "tags": []
   },
   "source": [
    "### Reading AG News Dataset"
   ]
  },
  {
   "cell_type": "code",
   "execution_count": 2,
   "id": "daf2e68b",
   "metadata": {
    "execution": {
     "iopub.execute_input": "2021-08-08T20:08:56.191221Z",
     "iopub.status.busy": "2021-08-08T20:08:56.190487Z",
     "iopub.status.idle": "2021-08-08T20:08:57.512922Z",
     "shell.execute_reply": "2021-08-08T20:08:57.511404Z",
     "shell.execute_reply.started": "2021-08-08T19:45:28.014146Z"
    },
    "papermill": {
     "duration": 1.34129,
     "end_time": "2021-08-08T20:08:57.513171",
     "exception": false,
     "start_time": "2021-08-08T20:08:56.171881",
     "status": "completed"
    },
    "tags": []
   },
   "outputs": [],
   "source": [
    "import torch\n",
    "from torchtext.datasets import AG_NEWS\n",
    "from torchtext.vocab import Vocab\n",
    "\n",
    "from torch.utils.data import DataLoader\n",
    "from torch.utils.data.dataset import random_split"
   ]
  },
  {
   "cell_type": "code",
   "execution_count": 3,
   "id": "eab3e165",
   "metadata": {
    "execution": {
     "iopub.execute_input": "2021-08-08T20:08:57.553024Z",
     "iopub.status.busy": "2021-08-08T20:08:57.552031Z",
     "iopub.status.idle": "2021-08-08T20:09:16.324025Z",
     "shell.execute_reply": "2021-08-08T20:09:16.324585Z",
     "shell.execute_reply.started": "2021-08-08T19:48:01.894521Z"
    },
    "papermill": {
     "duration": 18.791262,
     "end_time": "2021-08-08T20:09:16.324808",
     "exception": false,
     "start_time": "2021-08-08T20:08:57.533546",
     "status": "completed"
    },
    "tags": []
   },
   "outputs": [
    {
     "name": "stderr",
     "output_type": "stream",
     "text": [
      "ag_news_csv.tar.gz: 11.8MB [00:00, 146MB/s]\n",
      "120000lines [00:05, 23242.50lines/s]\n",
      "120000lines [00:10, 11725.97lines/s]\n",
      "7600lines [00:00, 12111.32lines/s]\n"
     ]
    }
   ],
   "source": [
    "train, test = AG_NEWS()"
   ]
  },
  {
   "cell_type": "code",
   "execution_count": 4,
   "id": "625f83b4",
   "metadata": {
    "execution": {
     "iopub.execute_input": "2021-08-08T20:09:16.435073Z",
     "iopub.status.busy": "2021-08-08T20:09:16.434331Z",
     "iopub.status.idle": "2021-08-08T20:09:16.437124Z",
     "shell.execute_reply": "2021-08-08T20:09:16.437642Z",
     "shell.execute_reply.started": "2021-08-08T19:45:55.519763Z"
    },
    "papermill": {
     "duration": 0.059741,
     "end_time": "2021-08-08T20:09:16.437863",
     "exception": false,
     "start_time": "2021-08-08T20:09:16.378122",
     "status": "completed"
    },
    "tags": []
   },
   "outputs": [],
   "source": [
    "itrTrain = iter(train)\n",
    "itrTest = iter(test)"
   ]
  },
  {
   "cell_type": "code",
   "execution_count": 5,
   "id": "464443f2",
   "metadata": {
    "execution": {
     "iopub.execute_input": "2021-08-08T20:09:16.551210Z",
     "iopub.status.busy": "2021-08-08T20:09:16.550392Z",
     "iopub.status.idle": "2021-08-08T20:09:16.570487Z",
     "shell.execute_reply": "2021-08-08T20:09:16.569862Z",
     "shell.execute_reply.started": "2021-08-08T19:46:07.121314Z"
    },
    "papermill": {
     "duration": 0.079342,
     "end_time": "2021-08-08T20:09:16.570640",
     "exception": false,
     "start_time": "2021-08-08T20:09:16.491298",
     "status": "completed"
    },
    "tags": []
   },
   "outputs": [
    {
     "data": {
      "text/plain": [
       "((2,\n",
       "  tensor([  432,   426,     2,  1606, 14839,   114,    67,     3,   849,    14,\n",
       "             28,    15,    28,    16, 50726,     4,   432,   375,    17,    10,\n",
       "          67508,     7, 52259,     4,    43,  4010,   784,   326,     2])),\n",
       " (2,\n",
       "  tensor([  870,    12,    84,   138,  1482,    35,   174,  1753,  4059,   401,\n",
       "             21,  6558, 38435,   234,    68,    43,    17,  4478,    17,    35,\n",
       "            174,    19, 11302,  2448,   321,   195,  9840,     2])))"
      ]
     },
     "execution_count": 5,
     "metadata": {},
     "output_type": "execute_result"
    }
   ],
   "source": [
    "next(itrTrain), next(itrTest)"
   ]
  },
  {
   "cell_type": "code",
   "execution_count": 6,
   "id": "b048e834",
   "metadata": {
    "execution": {
     "iopub.execute_input": "2021-08-08T20:09:16.680106Z",
     "iopub.status.busy": "2021-08-08T20:09:16.679370Z",
     "iopub.status.idle": "2021-08-08T20:09:16.683236Z",
     "shell.execute_reply": "2021-08-08T20:09:16.682616Z",
     "shell.execute_reply.started": "2021-08-08T19:46:12.815000Z"
    },
    "papermill": {
     "duration": 0.059774,
     "end_time": "2021-08-08T20:09:16.683410",
     "exception": false,
     "start_time": "2021-08-08T20:09:16.623636",
     "status": "completed"
    },
    "tags": []
   },
   "outputs": [
    {
     "data": {
      "text/plain": [
       "(120000, 7600)"
      ]
     },
     "execution_count": 6,
     "metadata": {},
     "output_type": "execute_result"
    }
   ],
   "source": [
    "len(train), len(test)"
   ]
  },
  {
   "cell_type": "code",
   "execution_count": 7,
   "id": "adf11d77",
   "metadata": {
    "execution": {
     "iopub.execute_input": "2021-08-08T20:09:16.795507Z",
     "iopub.status.busy": "2021-08-08T20:09:16.794652Z",
     "iopub.status.idle": "2021-08-08T20:09:16.798555Z",
     "shell.execute_reply": "2021-08-08T20:09:16.798082Z",
     "shell.execute_reply.started": "2021-08-08T19:46:14.433998Z"
    },
    "papermill": {
     "duration": 0.059005,
     "end_time": "2021-08-08T20:09:16.798729",
     "exception": false,
     "start_time": "2021-08-08T20:09:16.739724",
     "status": "completed"
    },
    "tags": []
   },
   "outputs": [
    {
     "data": {
      "text/plain": [
       "{0, 1, 2, 3}"
      ]
     },
     "execution_count": 7,
     "metadata": {},
     "output_type": "execute_result"
    }
   ],
   "source": [
    "train.get_labels()"
   ]
  },
  {
   "cell_type": "code",
   "execution_count": 8,
   "id": "1555910c",
   "metadata": {
    "execution": {
     "iopub.execute_input": "2021-08-08T20:09:16.904052Z",
     "iopub.status.busy": "2021-08-08T20:09:16.903400Z",
     "iopub.status.idle": "2021-08-08T20:09:16.906466Z",
     "shell.execute_reply": "2021-08-08T20:09:16.905873Z",
     "shell.execute_reply.started": "2021-08-08T19:48:27.473819Z"
    },
    "papermill": {
     "duration": 0.057439,
     "end_time": "2021-08-08T20:09:16.906618",
     "exception": false,
     "start_time": "2021-08-08T20:09:16.849179",
     "status": "completed"
    },
    "tags": []
   },
   "outputs": [],
   "source": [
    "vocab = train.get_vocab()"
   ]
  },
  {
   "cell_type": "markdown",
   "id": "09ce897e",
   "metadata": {
    "papermill": {
     "duration": 0.050298,
     "end_time": "2021-08-08T20:09:17.009168",
     "exception": false,
     "start_time": "2021-08-08T20:09:16.958870",
     "status": "completed"
    },
    "tags": []
   },
   "source": [
    "### Defining our model"
   ]
  },
  {
   "cell_type": "code",
   "execution_count": 9,
   "id": "75aa3cb2",
   "metadata": {
    "execution": {
     "iopub.execute_input": "2021-08-08T20:09:17.120363Z",
     "iopub.status.busy": "2021-08-08T20:09:17.119647Z",
     "iopub.status.idle": "2021-08-08T20:09:17.123108Z",
     "shell.execute_reply": "2021-08-08T20:09:17.122381Z",
     "shell.execute_reply.started": "2021-08-08T20:01:59.616478Z"
    },
    "papermill": {
     "duration": 0.061724,
     "end_time": "2021-08-08T20:09:17.123296",
     "exception": false,
     "start_time": "2021-08-08T20:09:17.061572",
     "status": "completed"
    },
    "tags": []
   },
   "outputs": [],
   "source": [
    "from torch import nn\n",
    "\n",
    "class TextClassificationModel(nn.Module):\n",
    "\n",
    "    def __init__(self, vocab_size, embed_dim, num_class):\n",
    "        super().__init__()\n",
    "        self.embedding = nn.EmbeddingBag(vocab_size, embed_dim, sparse=True)\n",
    "        self.fc = nn.Linear(embed_dim, num_class)\n",
    "        self.init_weights()\n",
    "\n",
    "    def init_weights(self):\n",
    "        initrange = 0.5\n",
    "        self.embedding.weight.data.uniform_(-initrange, initrange)\n",
    "        self.fc.weight.data.uniform_(-initrange, initrange)\n",
    "        self.fc.bias.data.zero_()\n",
    "\n",
    "    def forward(self, text, offsets):\n",
    "        embedded = self.embedding(text, offsets)\n",
    "        return self.fc(embedded)"
   ]
  },
  {
   "cell_type": "markdown",
   "id": "f44b4a66",
   "metadata": {
    "papermill": {
     "duration": 0.051493,
     "end_time": "2021-08-08T20:09:17.226056",
     "exception": false,
     "start_time": "2021-08-08T20:09:17.174563",
     "status": "completed"
    },
    "tags": []
   },
   "source": [
    "### Creating an instance of our model"
   ]
  },
  {
   "cell_type": "code",
   "execution_count": 10,
   "id": "9f488d1c",
   "metadata": {
    "execution": {
     "iopub.execute_input": "2021-08-08T20:09:17.338062Z",
     "iopub.status.busy": "2021-08-08T20:09:17.337365Z",
     "iopub.status.idle": "2021-08-08T20:09:17.481111Z",
     "shell.execute_reply": "2021-08-08T20:09:17.481624Z",
     "shell.execute_reply.started": "2021-08-08T20:02:04.655511Z"
    },
    "papermill": {
     "duration": 0.204632,
     "end_time": "2021-08-08T20:09:17.481859",
     "exception": false,
     "start_time": "2021-08-08T20:09:17.277227",
     "status": "completed"
    },
    "tags": []
   },
   "outputs": [],
   "source": [
    "num_class = len(train.get_labels())\n",
    "vocab_size = len(vocab)\n",
    "emsize = 64\n",
    "newsCLF = TextClassificationModel(vocab_size, emsize, num_class)"
   ]
  },
  {
   "cell_type": "code",
   "execution_count": 11,
   "id": "e78f4b44",
   "metadata": {
    "execution": {
     "iopub.execute_input": "2021-08-08T20:09:17.586193Z",
     "iopub.status.busy": "2021-08-08T20:09:17.585551Z",
     "iopub.status.idle": "2021-08-08T20:09:17.590466Z",
     "shell.execute_reply": "2021-08-08T20:09:17.590935Z",
     "shell.execute_reply.started": "2021-08-08T20:02:05.855985Z"
    },
    "papermill": {
     "duration": 0.05852,
     "end_time": "2021-08-08T20:09:17.591130",
     "exception": false,
     "start_time": "2021-08-08T20:09:17.532610",
     "status": "completed"
    },
    "tags": []
   },
   "outputs": [
    {
     "data": {
      "text/plain": [
       "TextClassificationModel(\n",
       "  (embedding): EmbeddingBag(95812, 64, mode=mean)\n",
       "  (fc): Linear(in_features=64, out_features=4, bias=True)\n",
       ")"
      ]
     },
     "execution_count": 11,
     "metadata": {},
     "output_type": "execute_result"
    }
   ],
   "source": [
    "newsCLF"
   ]
  },
  {
   "cell_type": "markdown",
   "id": "d0c10cb2",
   "metadata": {
    "papermill": {
     "duration": 0.049871,
     "end_time": "2021-08-08T20:09:17.691792",
     "exception": false,
     "start_time": "2021-08-08T20:09:17.641921",
     "status": "completed"
    },
    "tags": []
   },
   "source": [
    "### Training and optimizing our model "
   ]
  },
  {
   "cell_type": "code",
   "execution_count": 12,
   "id": "22a8d65e",
   "metadata": {
    "execution": {
     "iopub.execute_input": "2021-08-08T20:09:17.796989Z",
     "iopub.status.busy": "2021-08-08T20:09:17.796353Z",
     "iopub.status.idle": "2021-08-08T20:09:17.806873Z",
     "shell.execute_reply": "2021-08-08T20:09:17.806306Z",
     "shell.execute_reply.started": "2021-08-08T20:02:49.522819Z"
    },
    "papermill": {
     "duration": 0.063561,
     "end_time": "2021-08-08T20:09:17.807048",
     "exception": false,
     "start_time": "2021-08-08T20:09:17.743487",
     "status": "completed"
    },
    "tags": []
   },
   "outputs": [],
   "source": [
    "import time\n",
    "\n",
    "def training(dataloader):\n",
    "    newsCLF.train()\n",
    "    total_acc, total_count = 0, 0\n",
    "    log_interval = 500\n",
    "    start_time = time.time()\n",
    "\n",
    "    for idx, (label, text, offsets) in enumerate(dataloader):\n",
    "        optimizer.zero_grad()\n",
    "        predited_label = newsCLF(text, offsets)\n",
    "        loss = criterion(predited_label, label)\n",
    "        loss.backward()\n",
    "        torch.nn.utils.clip_grad_norm_(newsCLF.parameters(), 0.1)\n",
    "        optimizer.step()\n",
    "        total_acc += (predited_label.argmax(1) == label).sum().item()\n",
    "        total_count += label.size(0)\n",
    "        if idx % log_interval == 0 and idx > 0:\n",
    "            elapsed = time.time() - start_time\n",
    "            print('| epoch {:3d} | {:5d}/{:5d} batches '\n",
    "                  '| accuracy {:8.3f}'.format(epoch, idx, len(dataloader),\n",
    "                                              total_acc/total_count))\n",
    "            total_acc, total_count = 0, 0\n",
    "            start_time = time.time()\n",
    "\n",
    "def evaluate(dataloader):\n",
    "    newsCLF.eval()\n",
    "    total_acc, total_count = 0, 0\n",
    "\n",
    "    with torch.no_grad():\n",
    "        for idx, (label, text, offsets) in enumerate(dataloader):\n",
    "            predited_label = newsCLF(text, offsets)\n",
    "            loss = criterion(predited_label, label)\n",
    "            total_acc += (predited_label.argmax(1) == label).sum().item()\n",
    "            total_count += label.size(0)\n",
    "    return total_acc/total_count"
   ]
  },
  {
   "cell_type": "code",
   "execution_count": 13,
   "id": "7f1be20d",
   "metadata": {
    "execution": {
     "iopub.execute_input": "2021-08-08T20:09:17.919153Z",
     "iopub.status.busy": "2021-08-08T20:09:17.918149Z",
     "iopub.status.idle": "2021-08-08T20:09:17.921603Z",
     "shell.execute_reply": "2021-08-08T20:09:17.921029Z",
     "shell.execute_reply.started": "2021-08-08T20:00:54.176056Z"
    },
    "papermill": {
     "duration": 0.063235,
     "end_time": "2021-08-08T20:09:17.921793",
     "exception": false,
     "start_time": "2021-08-08T20:09:17.858558",
     "status": "completed"
    },
    "tags": []
   },
   "outputs": [],
   "source": [
    "def collate_batch(batch):\n",
    "    label_list, text_list, offsets = [], [], [0]\n",
    "    for (_label, _text) in batch:\n",
    "        label_list.append(_label)\n",
    "        processed_text = torch.tensor(_text)\n",
    "        text_list.append(processed_text)\n",
    "        offsets.append(processed_text.size(0))\n",
    "    label_list = torch.tensor(label_list)\n",
    "    offsets = torch.tensor(offsets[:-1]).cumsum(dim=0)\n",
    "    text_list = torch.cat(text_list)\n",
    "    return label_list, text_list, offsets"
   ]
  },
  {
   "cell_type": "code",
   "execution_count": 14,
   "id": "4578448e",
   "metadata": {
    "execution": {
     "iopub.execute_input": "2021-08-08T20:09:18.040285Z",
     "iopub.status.busy": "2021-08-08T20:09:18.039533Z",
     "iopub.status.idle": "2021-08-08T20:09:18.060396Z",
     "shell.execute_reply": "2021-08-08T20:09:18.059821Z",
     "shell.execute_reply.started": "2021-08-08T20:03:55.535057Z"
    },
    "papermill": {
     "duration": 0.086319,
     "end_time": "2021-08-08T20:09:18.060572",
     "exception": false,
     "start_time": "2021-08-08T20:09:17.974253",
     "status": "completed"
    },
    "tags": []
   },
   "outputs": [],
   "source": [
    "# Hyperparameters\n",
    "EPOCHS = 10 # epoch\n",
    "LR = 5  # learning rate\n",
    "BATCH_SIZE = 64 # batch size for training\n",
    "\n",
    "criterion = torch.nn.CrossEntropyLoss()\n",
    "optimizer = torch.optim.SGD(newsCLF.parameters(), lr=LR)\n",
    "scheduler = torch.optim.lr_scheduler.StepLR(optimizer, 1.0, gamma=0.1)\n",
    "total_accu = None\n",
    "\n",
    "num_train = int(len(train) * 0.95)\n",
    "split_train_, split_valid_ = random_split(train, [num_train, len(train) - num_train])\n",
    "\n",
    "train_dataloader = DataLoader(split_train_, batch_size=64, collate_fn=collate_batch, shuffle=True)\n",
    "valid_dataloader = DataLoader(split_valid_, batch_size=64, collate_fn=collate_batch, shuffle=True)\n",
    "test_dataloader = DataLoader(test, batch_size=64, collate_fn=collate_batch, shuffle=True)"
   ]
  },
  {
   "cell_type": "code",
   "execution_count": 15,
   "id": "3234339b",
   "metadata": {
    "execution": {
     "iopub.execute_input": "2021-08-08T20:09:18.177751Z",
     "iopub.status.busy": "2021-08-08T20:09:18.176760Z",
     "iopub.status.idle": "2021-08-08T20:11:40.347213Z",
     "shell.execute_reply": "2021-08-08T20:11:40.347650Z",
     "shell.execute_reply.started": "2021-08-08T20:04:00.375675Z"
    },
    "papermill": {
     "duration": 142.231841,
     "end_time": "2021-08-08T20:11:40.347893",
     "exception": false,
     "start_time": "2021-08-08T20:09:18.116052",
     "status": "completed"
    },
    "tags": []
   },
   "outputs": [
    {
     "name": "stderr",
     "output_type": "stream",
     "text": [
      "/opt/conda/lib/python3.7/site-packages/ipykernel_launcher.py:5: UserWarning: To copy construct from a tensor, it is recommended to use sourceTensor.clone().detach() or sourceTensor.clone().detach().requires_grad_(True), rather than torch.tensor(sourceTensor).\n",
      "  \"\"\"\n"
     ]
    },
    {
     "name": "stdout",
     "output_type": "stream",
     "text": [
      "| epoch   1 |   500/ 1782 batches | accuracy    0.685\n",
      "| epoch   1 |  1000/ 1782 batches | accuracy    0.856\n",
      "| epoch   1 |  1500/ 1782 batches | accuracy    0.877\n",
      "-----------------------------------------------------------\n",
      "| end of epoch   1 | time: 14.28s | valid accuracy    0.884 \n",
      "-----------------------------------------------------------\n",
      "| epoch   2 |   500/ 1782 batches | accuracy    0.897\n",
      "| epoch   2 |  1000/ 1782 batches | accuracy    0.901\n",
      "| epoch   2 |  1500/ 1782 batches | accuracy    0.900\n",
      "-----------------------------------------------------------\n",
      "| end of epoch   2 | time: 14.10s | valid accuracy    0.893 \n",
      "-----------------------------------------------------------\n",
      "| epoch   3 |   500/ 1782 batches | accuracy    0.917\n",
      "| epoch   3 |  1000/ 1782 batches | accuracy    0.914\n",
      "| epoch   3 |  1500/ 1782 batches | accuracy    0.914\n",
      "-----------------------------------------------------------\n",
      "| end of epoch   3 | time: 13.90s | valid accuracy    0.898 \n",
      "-----------------------------------------------------------\n",
      "| epoch   4 |   500/ 1782 batches | accuracy    0.928\n",
      "| epoch   4 |  1000/ 1782 batches | accuracy    0.923\n",
      "| epoch   4 |  1500/ 1782 batches | accuracy    0.921\n",
      "-----------------------------------------------------------\n",
      "| end of epoch   4 | time: 14.56s | valid accuracy    0.897 \n",
      "-----------------------------------------------------------\n",
      "| epoch   5 |   500/ 1782 batches | accuracy    0.938\n",
      "| epoch   5 |  1000/ 1782 batches | accuracy    0.940\n",
      "| epoch   5 |  1500/ 1782 batches | accuracy    0.937\n",
      "-----------------------------------------------------------\n",
      "| end of epoch   5 | time: 14.24s | valid accuracy    0.906 \n",
      "-----------------------------------------------------------\n",
      "| epoch   6 |   500/ 1782 batches | accuracy    0.939\n",
      "| epoch   6 |  1000/ 1782 batches | accuracy    0.941\n",
      "| epoch   6 |  1500/ 1782 batches | accuracy    0.938\n",
      "-----------------------------------------------------------\n",
      "| end of epoch   6 | time: 14.07s | valid accuracy    0.907 \n",
      "-----------------------------------------------------------\n",
      "| epoch   7 |   500/ 1782 batches | accuracy    0.941\n",
      "| epoch   7 |  1000/ 1782 batches | accuracy    0.942\n",
      "| epoch   7 |  1500/ 1782 batches | accuracy    0.939\n",
      "-----------------------------------------------------------\n",
      "| end of epoch   7 | time: 14.30s | valid accuracy    0.908 \n",
      "-----------------------------------------------------------\n",
      "| epoch   8 |   500/ 1782 batches | accuracy    0.942\n",
      "| epoch   8 |  1000/ 1782 batches | accuracy    0.942\n",
      "| epoch   8 |  1500/ 1782 batches | accuracy    0.941\n",
      "-----------------------------------------------------------\n",
      "| end of epoch   8 | time: 14.08s | valid accuracy    0.908 \n",
      "-----------------------------------------------------------\n",
      "| epoch   9 |   500/ 1782 batches | accuracy    0.943\n",
      "| epoch   9 |  1000/ 1782 batches | accuracy    0.940\n",
      "| epoch   9 |  1500/ 1782 batches | accuracy    0.943\n",
      "-----------------------------------------------------------\n",
      "| end of epoch   9 | time: 14.40s | valid accuracy    0.908 \n",
      "-----------------------------------------------------------\n",
      "| epoch  10 |   500/ 1782 batches | accuracy    0.943\n",
      "| epoch  10 |  1000/ 1782 batches | accuracy    0.942\n",
      "| epoch  10 |  1500/ 1782 batches | accuracy    0.943\n",
      "-----------------------------------------------------------\n",
      "| end of epoch  10 | time: 14.24s | valid accuracy    0.908 \n",
      "-----------------------------------------------------------\n"
     ]
    }
   ],
   "source": [
    "for epoch in range(1, EPOCHS + 1):\n",
    "    epoch_start_time = time.time()\n",
    "    training(train_dataloader)\n",
    "    accu_val = evaluate(valid_dataloader)\n",
    "    if total_accu is not None and total_accu > accu_val:\n",
    "        scheduler.step()\n",
    "    else:\n",
    "        total_accu = accu_val\n",
    "        \n",
    "    print('-' * 59)\n",
    "    print('| end of epoch {:3d} | time: {:5.2f}s | '\n",
    "          'valid accuracy {:8.3f} '.format(epoch,\n",
    "                                           time.time() - epoch_start_time,\n",
    "                                           accu_val))\n",
    "    print('-' * 59)"
   ]
  },
  {
   "cell_type": "markdown",
   "id": "cbc9b9b5",
   "metadata": {
    "papermill": {
     "duration": 0.059426,
     "end_time": "2021-08-08T20:11:40.469209",
     "exception": false,
     "start_time": "2021-08-08T20:11:40.409783",
     "status": "completed"
    },
    "tags": []
   },
   "source": [
    "### Evaluating results on test dataset"
   ]
  },
  {
   "cell_type": "code",
   "execution_count": 16,
   "id": "120758ba",
   "metadata": {
    "execution": {
     "iopub.execute_input": "2021-08-08T20:11:40.595644Z",
     "iopub.status.busy": "2021-08-08T20:11:40.594636Z",
     "iopub.status.idle": "2021-08-08T20:11:40.744637Z",
     "shell.execute_reply": "2021-08-08T20:11:40.744107Z",
     "shell.execute_reply.started": "2021-08-08T20:07:38.810877Z"
    },
    "papermill": {
     "duration": 0.2152,
     "end_time": "2021-08-08T20:11:40.744809",
     "exception": false,
     "start_time": "2021-08-08T20:11:40.529609",
     "status": "completed"
    },
    "tags": []
   },
   "outputs": [
    {
     "name": "stdout",
     "output_type": "stream",
     "text": [
      "Checking the results of test dataset.\n",
      "test accuracy    0.907\n"
     ]
    },
    {
     "name": "stderr",
     "output_type": "stream",
     "text": [
      "/opt/conda/lib/python3.7/site-packages/ipykernel_launcher.py:5: UserWarning: To copy construct from a tensor, it is recommended to use sourceTensor.clone().detach() or sourceTensor.clone().detach().requires_grad_(True), rather than torch.tensor(sourceTensor).\n",
      "  \"\"\"\n"
     ]
    }
   ],
   "source": [
    "print('Checking the results of test dataset.')\n",
    "accu_test = evaluate(test_dataloader)\n",
    "print('test accuracy {:8.3f}'.format(accu_test))"
   ]
  }
 ],
 "metadata": {
  "kernelspec": {
   "display_name": "Python 3",
   "language": "python",
   "name": "python3"
  },
  "language_info": {
   "codemirror_mode": {
    "name": "ipython",
    "version": 3
   },
   "file_extension": ".py",
   "mimetype": "text/x-python",
   "name": "python",
   "nbconvert_exporter": "python",
   "pygments_lexer": "ipython3",
   "version": "3.7.10"
  },
  "papermill": {
   "default_parameters": {},
   "duration": 173.862355,
   "end_time": "2021-08-08T20:11:42.383275",
   "environment_variables": {},
   "exception": null,
   "input_path": "__notebook__.ipynb",
   "output_path": "__notebook__.ipynb",
   "parameters": {},
   "start_time": "2021-08-08T20:08:48.520920",
   "version": "2.3.3"
  }
 },
 "nbformat": 4,
 "nbformat_minor": 5
}
